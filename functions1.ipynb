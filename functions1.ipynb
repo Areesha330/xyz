{
  "nbformat": 4,
  "nbformat_minor": 0,
  "metadata": {
    "colab": {
      "provenance": []
    },
    "kernelspec": {
      "name": "python3",
      "display_name": "Python 3"
    },
    "language_info": {
      "name": "python"
    }
  },
  "cells": [
    {
      "cell_type": "code",
      "execution_count": null,
      "metadata": {
        "id": "tIhi2jYhvwzh"
      },
      "outputs": [],
      "source": [
        "#functions\n",
        "#user defined function\n",
        "\n",
        "#function defination\n",
        "\n",
        "def sum():\n",
        "  a=12\n",
        "  b=20\n",
        "  c=a+b\n",
        "  print(\"the sum of a and b is:\",c)\n"
      ]
    },
    {
      "cell_type": "code",
      "source": [
        "sum()"
      ],
      "metadata": {
        "colab": {
          "base_uri": "https://localhost:8080/"
        },
        "id": "v6bLJ-h0wmLf",
        "outputId": "681824ff-81c7-4d02-d7c2-24698659dfe3"
      },
      "execution_count": null,
      "outputs": [
        {
          "output_type": "stream",
          "name": "stdout",
          "text": [
            "the sum of a and b is: 32\n"
          ]
        }
      ]
    },
    {
      "cell_type": "code",
      "source": [
        "#functions\n",
        "#user defined function\n",
        "##without parameter, no input no return\n",
        "#function defination\n",
        "\n",
        "def sum():\n",
        "  a=12\n",
        "  b=23\n",
        "  c=a+b\n",
        "  print(\"the sum of a and b is:\",c)"
      ],
      "metadata": {
        "id": "QgXyzIKDw6B6"
      },
      "execution_count": null,
      "outputs": []
    },
    {
      "cell_type": "code",
      "source": [
        "#function call\n",
        "sum()"
      ],
      "metadata": {
        "colab": {
          "base_uri": "https://localhost:8080/"
        },
        "id": "eVSqrUk4x3bc",
        "outputId": "67cfe128-b631-449d-c7b4-e64885330dd3"
      },
      "execution_count": null,
      "outputs": [
        {
          "output_type": "stream",
          "name": "stdout",
          "text": [
            "the sum of a and b is: 35\n"
          ]
        }
      ]
    },
    {
      "cell_type": "code",
      "source": [
        "#function defination\n",
        "#with parameter\n",
        "\n",
        "def sum(a,b):\n",
        "  c=a+b\n",
        "  print(\"the sum of a and b is:\",c)"
      ],
      "metadata": {
        "id": "Yl2E3Y8KyKGi"
      },
      "execution_count": null,
      "outputs": []
    },
    {
      "cell_type": "code",
      "source": [
        "#function call\n",
        "sum(12,20)"
      ],
      "metadata": {
        "colab": {
          "base_uri": "https://localhost:8080/"
        },
        "id": "iZdWUDZfyu7e",
        "outputId": "0c73977c-6c9c-45f4-a182-4a6ffb2d80c8"
      },
      "execution_count": null,
      "outputs": [
        {
          "output_type": "stream",
          "name": "stdout",
          "text": [
            "the sum of a and b is: 32\n"
          ]
        }
      ]
    },
    {
      "cell_type": "code",
      "source": [
        "#function defination\n",
        "#with parameter\n",
        "\n",
        "def sum(x,y):\n",
        "  z=x+y\n",
        "  print(\"the sum of x and y is:\",z)"
      ],
      "metadata": {
        "id": "0PTEzJBby9zF"
      },
      "execution_count": null,
      "outputs": []
    },
    {
      "cell_type": "code",
      "source": [
        "#function call\n",
        "sum(10,30)"
      ],
      "metadata": {
        "colab": {
          "base_uri": "https://localhost:8080/"
        },
        "id": "DbH1Y4XZzitq",
        "outputId": "3693300b-aa1a-4912-97f3-56b952900d76"
      },
      "execution_count": null,
      "outputs": [
        {
          "output_type": "stream",
          "name": "stdout",
          "text": [
            "the sum of x and y is: 40\n"
          ]
        }
      ]
    },
    {
      "cell_type": "code",
      "source": [
        "#funtion defination\n",
        "#with parameter\n",
        "\n",
        "def sum(x,y):\n",
        "  z=x+y\n",
        "  print(\"the sum of x and y is:\",z)\n",
        "\n"
      ],
      "metadata": {
        "id": "UZ55iWqIzr1n"
      },
      "execution_count": null,
      "outputs": []
    },
    {
      "cell_type": "code",
      "source": [
        "#function call\n",
        "sum(1,2)"
      ],
      "metadata": {
        "colab": {
          "base_uri": "https://localhost:8080/"
        },
        "id": "i_66i6VD0Rct",
        "outputId": "84c9f4f1-a088-4c1b-e5d7-6510a8330f9b"
      },
      "execution_count": null,
      "outputs": [
        {
          "output_type": "stream",
          "name": "stdout",
          "text": [
            "the sum of x and y is: 3\n"
          ]
        }
      ]
    },
    {
      "cell_type": "code",
      "source": [
        "#funtion defination\n",
        "#with parameter\n",
        "\n",
        "def mod(x,y):\n",
        "  z=x%y\n",
        "  print(\"the mod of x and y is:\",z)\n"
      ],
      "metadata": {
        "id": "J-1VGqKM0a6t"
      },
      "execution_count": null,
      "outputs": []
    },
    {
      "cell_type": "code",
      "source": [
        "#function call\n",
        "mod(12,20)"
      ],
      "metadata": {
        "colab": {
          "base_uri": "https://localhost:8080/"
        },
        "id": "Hh-aXM6T0ysL",
        "outputId": "fe10ba4d-aa06-4f30-ff7b-f9a4b6294f1c"
      },
      "execution_count": null,
      "outputs": [
        {
          "output_type": "stream",
          "name": "stdout",
          "text": [
            "the mod of x and y is: 12\n"
          ]
        }
      ]
    },
    {
      "cell_type": "code",
      "source": [
        "#funtion defination\n",
        "#with parameter\n",
        "\n",
        "def divide(x,y):\n",
        "  z=x/y\n",
        "  print(\"the divide of x and y is:\",z)\n"
      ],
      "metadata": {
        "id": "XTNuXXfn08Wj"
      },
      "execution_count": null,
      "outputs": []
    },
    {
      "cell_type": "code",
      "source": [
        "#function call\n",
        "divide(25,5)"
      ],
      "metadata": {
        "colab": {
          "base_uri": "https://localhost:8080/"
        },
        "id": "ymne26ip1KV5",
        "outputId": "662961ab-90e0-447c-c88e-eeacf32cada1"
      },
      "execution_count": null,
      "outputs": [
        {
          "output_type": "stream",
          "name": "stdout",
          "text": [
            "the divide of x and y is: 5.0\n"
          ]
        }
      ]
    },
    {
      "cell_type": "code",
      "source": [
        "#funtion defination\n",
        "#with parameter\n",
        "\n",
        "def subtraction(x,y):\n",
        "  z=x-y\n",
        "  print(\"the subtraction of x and y is:\",z)\n"
      ],
      "metadata": {
        "id": "qpsKvzTo1es_"
      },
      "execution_count": null,
      "outputs": []
    },
    {
      "cell_type": "code",
      "source": [
        "#function call\n",
        "subtraction(30,20)"
      ],
      "metadata": {
        "colab": {
          "base_uri": "https://localhost:8080/"
        },
        "id": "1ed7vcoV1s5B",
        "outputId": "bc029de5-184e-46f5-e4a2-634c25166bfd"
      },
      "execution_count": null,
      "outputs": [
        {
          "output_type": "stream",
          "name": "stdout",
          "text": [
            "the subtraction of x and y is: 10\n"
          ]
        }
      ]
    },
    {
      "cell_type": "code",
      "source": [
        "def even_odd(n):\n",
        "  if n%2==0:\n",
        "    print(n,\"is even\")\n",
        "  else:\n",
        "    print(n,\"is odd\")"
      ],
      "metadata": {
        "id": "vOn1w0yc1uCS"
      },
      "execution_count": null,
      "outputs": []
    },
    {
      "cell_type": "code",
      "source": [
        "#find the number is even or odd from 1 to 50\n",
        "even_odd(34)\n"
      ],
      "metadata": {
        "colab": {
          "base_uri": "https://localhost:8080/"
        },
        "id": "ZqmF40F73IrI",
        "outputId": "567f5116-62c8-4bc5-dd10-3481f92eb9a1"
      },
      "execution_count": null,
      "outputs": [
        {
          "output_type": "stream",
          "name": "stdout",
          "text": [
            "34 is even\n"
          ]
        }
      ]
    },
    {
      "cell_type": "code",
      "source": [
        "def even_odd(n):\n",
        "  if n%2==0:\n",
        "    print(n,\"is even\")\n",
        "  else:\n",
        "    print(n,\"is odd\")"
      ],
      "metadata": {
        "id": "qRV7hHgG4apC"
      },
      "execution_count": null,
      "outputs": []
    },
    {
      "cell_type": "code",
      "source": [
        "#find the number is even or odd from 1 to 50\n",
        "even_odd(23)"
      ],
      "metadata": {
        "colab": {
          "base_uri": "https://localhost:8080/"
        },
        "id": "ROpm1IgN4fxK",
        "outputId": "e0429526-179f-4382-efd6-430ee7ca0361"
      },
      "execution_count": null,
      "outputs": [
        {
          "output_type": "stream",
          "name": "stdout",
          "text": [
            "23 is odd\n"
          ]
        }
      ]
    },
    {
      "cell_type": "code",
      "source": [
        "def even_odd(n):\n",
        "  if n%2==0:\n",
        "    print(n,\"is even\")\n",
        "  else:\n",
        "    print(n,\"is odd\")"
      ],
      "metadata": {
        "id": "bL3jqZM94xE6"
      },
      "execution_count": null,
      "outputs": []
    },
    {
      "cell_type": "code",
      "source": [
        "#find the number is even or odd from 1 to 50\n",
        "for v in range(1,51):\n",
        " even_odd(v)"
      ],
      "metadata": {
        "colab": {
          "base_uri": "https://localhost:8080/"
        },
        "id": "27WURRZ242lR",
        "outputId": "7e2ba284-1ab8-431f-8cb3-da1e582b6e50"
      },
      "execution_count": null,
      "outputs": [
        {
          "output_type": "stream",
          "name": "stdout",
          "text": [
            "1 is odd\n",
            "2 is even\n",
            "3 is odd\n",
            "4 is even\n",
            "5 is odd\n",
            "6 is even\n",
            "7 is odd\n",
            "8 is even\n",
            "9 is odd\n",
            "10 is even\n",
            "11 is odd\n",
            "12 is even\n",
            "13 is odd\n",
            "14 is even\n",
            "15 is odd\n",
            "16 is even\n",
            "17 is odd\n",
            "18 is even\n",
            "19 is odd\n",
            "20 is even\n",
            "21 is odd\n",
            "22 is even\n",
            "23 is odd\n",
            "24 is even\n",
            "25 is odd\n",
            "26 is even\n",
            "27 is odd\n",
            "28 is even\n",
            "29 is odd\n",
            "30 is even\n",
            "31 is odd\n",
            "32 is even\n",
            "33 is odd\n",
            "34 is even\n",
            "35 is odd\n",
            "36 is even\n",
            "37 is odd\n",
            "38 is even\n",
            "39 is odd\n",
            "40 is even\n",
            "41 is odd\n",
            "42 is even\n",
            "43 is odd\n",
            "44 is even\n",
            "45 is odd\n",
            "46 is even\n",
            "47 is odd\n",
            "48 is even\n",
            "49 is odd\n",
            "50 is even\n"
          ]
        }
      ]
    },
    {
      "cell_type": "code",
      "source": [
        "def even_odd(n):\n",
        "  if n%2 ==0:\n",
        "    return \"even\"\n",
        "  else:\n",
        "    return \"odd\""
      ],
      "metadata": {
        "id": "lfpz7tsX6RgV"
      },
      "execution_count": null,
      "outputs": []
    },
    {
      "cell_type": "code",
      "source": [
        "#find the number is even or odd from 1 to 40\n",
        "even_odd(34)"
      ],
      "metadata": {
        "colab": {
          "base_uri": "https://localhost:8080/",
          "height": 35
        },
        "id": "g_Gw6pDE6sBT",
        "outputId": "4eaaa777-37ea-44d7-a6b9-3d2493a7b6f8"
      },
      "execution_count": null,
      "outputs": [
        {
          "output_type": "execute_result",
          "data": {
            "text/plain": [
              "'even'"
            ],
            "application/vnd.google.colaboratory.intrinsic+json": {
              "type": "string"
            }
          },
          "metadata": {},
          "execution_count": 48
        }
      ]
    },
    {
      "cell_type": "code",
      "source": [
        "def even_odd(n):\n",
        "  if n%2 ==0:\n",
        "    return \"even\"\n",
        "  else:\n",
        "    return \"odd\""
      ],
      "metadata": {
        "id": "EUbpk3LP7Jwp"
      },
      "execution_count": null,
      "outputs": []
    },
    {
      "cell_type": "code",
      "source": [
        "#find the number is even or odd from 1 to 40\n",
        "even_odd(35)\n"
      ],
      "metadata": {
        "colab": {
          "base_uri": "https://localhost:8080/",
          "height": 35
        },
        "id": "ZjxMajvW7Rfq",
        "outputId": "04f59808-570a-4114-9699-745b96433255"
      },
      "execution_count": null,
      "outputs": [
        {
          "output_type": "execute_result",
          "data": {
            "text/plain": [
              "'odd'"
            ],
            "application/vnd.google.colaboratory.intrinsic+json": {
              "type": "string"
            }
          },
          "metadata": {},
          "execution_count": 50
        }
      ]
    },
    {
      "cell_type": "code",
      "source": [
        "def even_odd(n):\n",
        "  if n%2 ==0:\n",
        "    return \"even\"\n",
        "  else:\n",
        "    return \"odd\""
      ],
      "metadata": {
        "id": "B6Pwc5yf7g_Z"
      },
      "execution_count": null,
      "outputs": []
    },
    {
      "cell_type": "code",
      "source": [
        "#find the number of even or odd from 1 to 45\n",
        "ans=even_odd(24)\n",
        "print(ans)"
      ],
      "metadata": {
        "id": "Vfv1EaKR7itI",
        "colab": {
          "base_uri": "https://localhost:8080/"
        },
        "outputId": "aae59448-8b00-4088-f947-24eb73f9fd02"
      },
      "execution_count": 52,
      "outputs": [
        {
          "output_type": "stream",
          "name": "stdout",
          "text": [
            "even\n"
          ]
        }
      ]
    },
    {
      "cell_type": "code",
      "source": [
        "def even_odd(n):\n",
        "  if n%2 ==0:\n",
        "    return \"even\"\n",
        "  else:\n",
        "    return \"odd\""
      ],
      "metadata": {
        "id": "UYx44ZeF8KbY"
      },
      "execution_count": 53,
      "outputs": []
    },
    {
      "cell_type": "code",
      "source": [
        "#find the number of even or odd from 1 to 45\n",
        "ans=even_odd(43)\n",
        "print(ans)"
      ],
      "metadata": {
        "id": "Fw_looSw8REJ",
        "outputId": "2823a156-7183-4356-85db-91696f15ed93",
        "colab": {
          "base_uri": "https://localhost:8080/"
        }
      },
      "execution_count": 54,
      "outputs": [
        {
          "output_type": "stream",
          "name": "stdout",
          "text": [
            "odd\n"
          ]
        }
      ]
    }
  ]
}