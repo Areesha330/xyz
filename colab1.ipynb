{
  "nbformat": 4,
  "nbformat_minor": 0,
  "metadata": {
    "colab": {
      "provenance": []
    },
    "kernelspec": {
      "name": "python3",
      "display_name": "Python 3"
    },
    "language_info": {
      "name": "python"
    }
  },
  "cells": [
    {
      "cell_type": "code",
      "execution_count": 1,
      "metadata": {
        "id": "P4A-BTaX6tyJ",
        "colab": {
          "base_uri": "https://localhost:8080/"
        },
        "outputId": "3c05c94b-9b5a-4b8f-abde-41d889252843"
      },
      "outputs": [
        {
          "output_type": "stream",
          "name": "stdout",
          "text": [
            "wel come\n"
          ]
        }
      ],
      "source": [
        "print(\"wel come\")"
      ]
    }
  ]
}