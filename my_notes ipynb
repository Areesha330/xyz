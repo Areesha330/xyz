mix=["ali","usman",21,41]
mix[0]