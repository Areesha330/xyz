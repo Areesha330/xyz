{
  "nbformat": 4,
  "nbformat_minor": 0,
  "metadata": {
    "colab": {
      "provenance": []
    },
    "kernelspec": {
      "name": "python3",
      "display_name": "Python 3"
    },
    "language_info": {
      "name": "python"
    }
  },
  "cells": [
    {
      "cell_type": "code",
      "execution_count": null,
      "metadata": {
        "colab": {
          "base_uri": "https://localhost:8080/"
        },
        "id": "UOLnJn_GU_5h",
        "outputId": "cff6bd9b-e4db-4f1e-d3dd-4ea1748a03d9"
      },
      "outputs": [
        {
          "output_type": "stream",
          "name": "stdout",
          "text": [
            "345\n",
            "<class 'int'>\n"
          ]
        }
      ],
      "source": [
        "#data types\n",
        "#1.numeric\n",
        " #a.integer:345,-45\n",
        " #b.float:2.20,-43.0\n",
        " #c.complex:34+4j\n",
        "#2.string:'alex' \"we are learning python\",\"\"\"\"python is common language\"\"\",\"23\"\n",
        "#3.boolen:True,False\n",
        "#4.sequence:list,tuple,range()\n",
        "#4.sequence/collection:\n",
        "#list:\n",
        "# ages=[23,34,40,34,45]\n",
        "#tuple:\n",
        "# items=(23,45,67,45)\n",
        "#range():\n",
        "# range(10)\n",
        "\n",
        "var_int=345\n",
        "print(var_int)\n",
        "print(type(var_int))"
      ]
    },
    {
      "cell_type": "code",
      "source": [
        "var_float=2.20\n",
        "print(var_float)\n",
        "print(type(var_float))"
      ],
      "metadata": {
        "colab": {
          "base_uri": "https://localhost:8080/"
        },
        "id": "-E7KiFuDYC0U",
        "outputId": "f22411f8-b74a-4105-d1c7-c57d4fc513e9"
      },
      "execution_count": null,
      "outputs": [
        {
          "output_type": "stream",
          "name": "stdout",
          "text": [
            "2.2\n",
            "<class 'float'>\n"
          ]
        }
      ]
    },
    {
      "cell_type": "code",
      "source": [
        "var_str='''2.20'''\n",
        "print(var_str)\n",
        "print(type(var_str))"
      ],
      "metadata": {
        "colab": {
          "base_uri": "https://localhost:8080/"
        },
        "id": "H_T2icsUYe3O",
        "outputId": "087e6904-4f60-448e-8d61-66d0d101baed"
      },
      "execution_count": null,
      "outputs": [
        {
          "output_type": "stream",
          "name": "stdout",
          "text": [
            "2.20\n",
            "<class 'str'>\n"
          ]
        }
      ]
    },
    {
      "cell_type": "code",
      "source": [
        "var_str=True\n",
        "print(var_str)\n",
        "print(type(var_str))"
      ],
      "metadata": {
        "colab": {
          "base_uri": "https://localhost:8080/"
        },
        "id": "77AiORoWZBr7",
        "outputId": "61334db1-1317-4f84-e415-35890c2f7e13"
      },
      "execution_count": null,
      "outputs": [
        {
          "output_type": "stream",
          "name": "stdout",
          "text": [
            "True\n",
            "<class 'bool'>\n"
          ]
        }
      ]
    },
    {
      "cell_type": "code",
      "source": [
        "var_str=False\n",
        "print(var_str)\n",
        "print(type(var_str))"
      ],
      "metadata": {
        "colab": {
          "base_uri": "https://localhost:8080/"
        },
        "id": "ZAl0ORIRZniV",
        "outputId": "1c346562-c33a-4248-efdb-e00c4d1e25ae"
      },
      "execution_count": null,
      "outputs": [
        {
          "output_type": "stream",
          "name": "stdout",
          "text": [
            "False\n",
            "<class 'bool'>\n"
          ]
        }
      ]
    },
    {
      "cell_type": "code",
      "source": [
        "ages=[23,34,40,34,45]\n",
        "print(ages)\n",
        "print(type(ages))"
      ],
      "metadata": {
        "colab": {
          "base_uri": "https://localhost:8080/"
        },
        "id": "AUp7hp_rd_kn",
        "outputId": "4accac47-34ff-4674-825d-c4b88c49e8fb"
      },
      "execution_count": null,
      "outputs": [
        {
          "output_type": "stream",
          "name": "stdout",
          "text": [
            "[23, 34, 40, 34, 45]\n",
            "<class 'list'>\n"
          ]
        }
      ]
    },
    {
      "cell_type": "code",
      "source": [
        "ages=range(4)\n",
        "ages=range(4,10)\n",
        "print=list(ages)\n",
        "print=(type(ages))"
      ],
      "metadata": {
        "id": "45audlPN4-Lk"
      },
      "execution_count": null,
      "outputs": []
    },
    {
      "cell_type": "code",
      "source": [
        "mix=[1,\"test\",3.29]\n",
        "mix[0]"
      ],
      "metadata": {
        "colab": {
          "base_uri": "https://localhost:8080/"
        },
        "id": "tWM-RCZbYez2",
        "outputId": "63d1f0f3-f66a-46a5-ad89-ab9bda8796f6"
      },
      "execution_count": null,
      "outputs": [
        {
          "output_type": "execute_result",
          "data": {
            "text/plain": [
              "1"
            ]
          },
          "metadata": {},
          "execution_count": 1
        }
      ]
    },
    {
      "cell_type": "code",
      "source": [
        "\n",
        "mix=[1,\"test\",3.29]\n",
        "mix[1]\n",
        "\n"
      ],
      "metadata": {
        "colab": {
          "base_uri": "https://localhost:8080/",
          "height": 35
        },
        "id": "jSxuCu2SaML0",
        "outputId": "946cf0d7-87ad-409c-8df1-79259ce2c121"
      },
      "execution_count": null,
      "outputs": [
        {
          "output_type": "execute_result",
          "data": {
            "text/plain": [
              "'test'"
            ],
            "application/vnd.google.colaboratory.intrinsic+json": {
              "type": "string"
            }
          },
          "metadata": {},
          "execution_count": 5
        }
      ]
    },
    {
      "cell_type": "code",
      "source": [
        "mix=[1,\"test\",3.29]\n",
        "mix[2]\n",
        "\n"
      ],
      "metadata": {
        "colab": {
          "base_uri": "https://localhost:8080/"
        },
        "id": "27COKu_Ia3Oi",
        "outputId": "ca3a491e-f899-47a3-ee5f-e2c88b5c1e8f"
      },
      "execution_count": null,
      "outputs": [
        {
          "output_type": "execute_result",
          "data": {
            "text/plain": [
              "3.29"
            ]
          },
          "metadata": {},
          "execution_count": 6
        }
      ]
    }
  ]
}