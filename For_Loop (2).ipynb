{
  "nbformat": 4,
  "nbformat_minor": 0,
  "metadata": {
    "colab": {
      "provenance": []
    },
    "kernelspec": {
      "name": "python3",
      "display_name": "Python 3"
    },
    "language_info": {
      "name": "python"
    }
  },
  "cells": [
    {
      "cell_type": "code",
      "execution_count": 2,
      "metadata": {
        "colab": {
          "base_uri": "https://localhost:8080/"
        },
        "id": "2TmoHXvZfz0v",
        "outputId": "f757326c-1ec7-4a99-dd32-b2ce8f89a947"
      },
      "outputs": [
        {
          "output_type": "stream",
          "name": "stdout",
          "text": [
            "['apple', 'mango', 'orange', 'lemon']\n",
            "apple\n",
            "['apple', 'mango', 'orange', 'lemon']\n",
            "mango\n",
            "['apple', 'mango', 'orange', 'lemon']\n",
            "orange\n",
            "['apple', 'mango', 'orange', 'lemon']\n",
            "lemon\n"
          ]
        }
      ],
      "source": [
        "#for loop\n",
        "items=[\"apple\",\"mango\",\"orange\",\"lemon\"]\n",
        "for i in items:\n",
        "  print(items)\n",
        "  print(i)"
      ]
    },
    {
      "cell_type": "code",
      "source": [
        "#for loop\n",
        "items=[\"apple\",\"mango\",\"orange\",\"lemon\"]\n",
        "for item in items:\n",
        "  print(items)"
      ],
      "metadata": {
        "colab": {
          "base_uri": "https://localhost:8080/"
        },
        "id": "QIysADOZg9_8",
        "outputId": "e0a04326-c5e0-4e4f-e001-f652afbc80e3"
      },
      "execution_count": 4,
      "outputs": [
        {
          "output_type": "stream",
          "name": "stdout",
          "text": [
            "['apple', 'mango', 'orange', 'lemon']\n",
            "['apple', 'mango', 'orange', 'lemon']\n",
            "['apple', 'mango', 'orange', 'lemon']\n",
            "['apple', 'mango', 'orange', 'lemon']\n"
          ]
        }
      ]
    },
    {
      "cell_type": "code",
      "source": [
        "#for loop\n",
        "items=[\"a\",\"b\",\"c\",\"d\",\"e\"]\n",
        "for i in items:\n",
        "    print(items)\n",
        "    print(i)"
      ],
      "metadata": {
        "colab": {
          "base_uri": "https://localhost:8080/"
        },
        "id": "w9r7DqgyhMc8",
        "outputId": "6f134f49-44a6-4a32-f449-1d30e1ae7b64"
      },
      "execution_count": 45,
      "outputs": [
        {
          "output_type": "stream",
          "name": "stdout",
          "text": [
            "['a', 'b', 'c', 'd', 'e']\n",
            "a\n",
            "['a', 'b', 'c', 'd', 'e']\n",
            "b\n",
            "['a', 'b', 'c', 'd', 'e']\n",
            "c\n",
            "['a', 'b', 'c', 'd', 'e']\n",
            "d\n",
            "['a', 'b', 'c', 'd', 'e']\n",
            "e\n"
          ]
        }
      ]
    },
    {
      "cell_type": "code",
      "source": [
        "items=[\"a\",\"b\",\"c\",\"d\",\"e\",\"f\"]\n",
        "for x in items:\n",
        "  print(x)"
      ],
      "metadata": {
        "id": "bSpGNASkzo30",
        "outputId": "cc920371-de30-47c6-e13f-d6771fa5face",
        "colab": {
          "base_uri": "https://localhost:8080/"
        }
      },
      "execution_count": 46,
      "outputs": [
        {
          "output_type": "stream",
          "name": "stdout",
          "text": [
            "a\n",
            "b\n",
            "c\n",
            "d\n",
            "e\n",
            "f\n"
          ]
        }
      ]
    },
    {
      "cell_type": "code",
      "source": [
        "books=[\"English\",\"C#\",\"C++\",\"Database system\"]\n",
        "subject=[\"Chemistry\",\"Computer\",\"Biology\",\"physics\",\"Urdu\"]\n",
        "for x in books:\n",
        "  for y in subject:\n",
        "    print(x)\n",
        "    print(y)\n",
        "\n",
        ""
      ],
      "metadata": {
        "id": "MvF32eeosknu",
        "outputId": "77153590-83b9-4b81-f2f7-9ebe1bc71f91",
        "colab": {
          "base_uri": "https://localhost:8080/"
        }
      },
      "execution_count": 52,
      "outputs": [
        {
          "output_type": "stream",
          "name": "stdout",
          "text": [
            "English\n",
            "Chemistry\n",
            "English\n",
            "Computer\n",
            "English\n",
            "Biology\n",
            "English\n",
            "physics\n",
            "English\n",
            "Urdu\n",
            "C#\n",
            "Chemistry\n",
            "C#\n",
            "Computer\n",
            "C#\n",
            "Biology\n",
            "C#\n",
            "physics\n",
            "C#\n",
            "Urdu\n",
            "C++\n",
            "Chemistry\n",
            "C++\n",
            "Computer\n",
            "C++\n",
            "Biology\n",
            "C++\n",
            "physics\n",
            "C++\n",
            "Urdu\n",
            "Database system\n",
            "Chemistry\n",
            "Database system\n",
            "Computer\n",
            "Database system\n",
            "Biology\n",
            "Database system\n",
            "physics\n",
            "Database system\n",
            "Urdu\n"
          ]
        }
      ]
    },
    {
      "cell_type": "code",
      "source": [
        "for count in range(10):\n",
        "  print(count)"
      ],
      "metadata": {
        "colab": {
          "base_uri": "https://localhost:8080/"
        },
        "id": "M3fKqt86h6br",
        "outputId": "212ad572-f616-41f3-9117-a2dc6a3e98d0"
      },
      "execution_count": 6,
      "outputs": [
        {
          "output_type": "stream",
          "name": "stdout",
          "text": [
            "0\n",
            "1\n",
            "2\n",
            "3\n",
            "4\n",
            "5\n",
            "6\n",
            "7\n",
            "8\n",
            "9\n"
          ]
        }
      ]
    },
    {
      "cell_type": "code",
      "source": [
        "for count in range(12):\n",
        "  print(count)"
      ],
      "metadata": {
        "id": "KJpZBoPUrSiP",
        "outputId": "ec3b2c43-8185-4270-fc3d-7c5fc5748b7b",
        "colab": {
          "base_uri": "https://localhost:8080/"
        }
      },
      "execution_count": 26,
      "outputs": [
        {
          "output_type": "stream",
          "name": "stdout",
          "text": [
            "0\n",
            "1\n",
            "2\n",
            "3\n",
            "4\n",
            "5\n",
            "6\n",
            "7\n",
            "8\n",
            "9\n",
            "10\n",
            "11\n"
          ]
        }
      ]
    },
    {
      "cell_type": "code",
      "source": [
        "fruits = [\"apple\", \"banana\", \"cherry\",\"mango\",\"orange\"]\n",
        "for x in fruits:\n",
        "  print(x)"
      ],
      "metadata": {
        "colab": {
          "base_uri": "https://localhost:8080/"
        },
        "id": "TFhZVsB9qa6e",
        "outputId": "832fc90a-712d-4bbf-d9ba-c2f6541a6e0e"
      },
      "execution_count": 25,
      "outputs": [
        {
          "output_type": "stream",
          "name": "stdout",
          "text": [
            "apple\n",
            "banana\n",
            "cherry\n",
            "mango\n",
            "orange\n"
          ]
        }
      ]
    },
    {
      "cell_type": "code",
      "source": [
        "fruits=[\"apple\",\"banana\",\"cherry\"]\n",
        "for x in fruits:\n",
        "  print(x)"
      ],
      "metadata": {
        "colab": {
          "base_uri": "https://localhost:8080/"
        },
        "id": "YPXTzsmviKo-",
        "outputId": "b5ec1839-5420-46e3-99f9-90d51b17d34c"
      },
      "execution_count": 7,
      "outputs": [
        {
          "output_type": "stream",
          "name": "stdout",
          "text": [
            "apple\n",
            "banana\n",
            "cherry\n"
          ]
        }
      ]
    },
    {
      "cell_type": "code",
      "source": [
        "for x in \"banana\":\n",
        "  print(x)"
      ],
      "metadata": {
        "colab": {
          "base_uri": "https://localhost:8080/"
        },
        "id": "YWmp9JdFiwYK",
        "outputId": "178f8c56-72d9-4d58-e95d-e7b73b8c8bc2"
      },
      "execution_count": 8,
      "outputs": [
        {
          "output_type": "stream",
          "name": "stdout",
          "text": [
            "b\n",
            "a\n",
            "n\n",
            "a\n",
            "n\n",
            "a\n"
          ]
        }
      ]
    },
    {
      "cell_type": "code",
      "source": [
        "for x in \"apple\":\n",
        "  print(x)"
      ],
      "metadata": {
        "id": "khGHDxzHr0-l",
        "outputId": "00c02f22-548d-4538-9972-99e8dfbf0892",
        "colab": {
          "base_uri": "https://localhost:8080/"
        }
      },
      "execution_count": 27,
      "outputs": [
        {
          "output_type": "stream",
          "name": "stdout",
          "text": [
            "a\n",
            "p\n",
            "p\n",
            "l\n",
            "e\n"
          ]
        }
      ]
    },
    {
      "cell_type": "code",
      "source": [
        "for x in \"cherry\":\n",
        "  print(x)"
      ],
      "metadata": {
        "id": "Yf6yeixFr-7n",
        "outputId": "592e80c8-68a4-454e-e938-2f1554aedd3d",
        "colab": {
          "base_uri": "https://localhost:8080/"
        }
      },
      "execution_count": 28,
      "outputs": [
        {
          "output_type": "stream",
          "name": "stdout",
          "text": [
            "c\n",
            "h\n",
            "e\n",
            "r\n",
            "r\n",
            "y\n"
          ]
        }
      ]
    },
    {
      "cell_type": "code",
      "source": [
        "months=[\"january\",\"february\",\"march\",\"aprial\",\"may\",\"june\"]\n",
        "for x in months:\n",
        "  if x == \"march\":\n",
        "    continue\n",
        "  print(x)\n",
        "\n"
      ],
      "metadata": {
        "id": "3CCfKiK1vHsD",
        "outputId": "42b20104-86ac-4a0c-ef6a-aaca9d496f89",
        "colab": {
          "base_uri": "https://localhost:8080/"
        }
      },
      "execution_count": 39,
      "outputs": [
        {
          "output_type": "stream",
          "name": "stdout",
          "text": [
            "january\n",
            "february\n",
            "aprial\n",
            "may\n",
            "june\n"
          ]
        }
      ]
    },
    {
      "cell_type": "code",
      "source": [
        "days=[\"Monday\",\"Tuesday\",\"Wednesday\",\"Thursday\",\"Friday\",\"Saturday\",\"Sunday\"]\n",
        "for x in days:\n",
        "  if x == \"Sunday\":\n",
        "    break\n",
        "  print(x)"
      ],
      "metadata": {
        "id": "UyDIEvlNw4qR",
        "outputId": "ddd5eb8b-c365-4dfa-cd0c-530e2cff0a50",
        "colab": {
          "base_uri": "https://localhost:8080/"
        }
      },
      "execution_count": 42,
      "outputs": [
        {
          "output_type": "stream",
          "name": "stdout",
          "text": [
            "Monday\n",
            "Tuesday\n",
            "Wednesday\n",
            "Thursday\n",
            "Friday\n",
            "Saturday\n"
          ]
        }
      ]
    },
    {
      "cell_type": "code",
      "source": [
        "fruits=[\"apple\",\"banana\",\"cherry\"]\n",
        "for x in fruits:\n",
        "  if x == \"banana\":\n",
        "    break\n",
        "  print(x)\n"
      ],
      "metadata": {
        "colab": {
          "base_uri": "https://localhost:8080/"
        },
        "id": "9eQS0R8ijJlt",
        "outputId": "834c0662-173e-4fc5-bc8e-6006b20e03c3"
      },
      "execution_count": 35,
      "outputs": [
        {
          "output_type": "stream",
          "name": "stdout",
          "text": [
            "apple\n"
          ]
        }
      ]
    },
    {
      "cell_type": "code",
      "source": [
        "colors=[\"red\",\"blue\",\"black\",\"green\",\"sky\",\"white\",\"pink\",\"yellow\",\"purple\"]\n",
        "for x in colors:\n",
        "  if x == \"purple\":\n",
        "    continue\n",
        "  print(x)"
      ],
      "metadata": {
        "id": "Z2MfTe5SyE58",
        "outputId": "4e6afe45-eedb-4ea3-d062-3bbdf4fc8c24",
        "colab": {
          "base_uri": "https://localhost:8080/"
        }
      },
      "execution_count": 43,
      "outputs": [
        {
          "output_type": "stream",
          "name": "stdout",
          "text": [
            "red\n",
            "blue\n",
            "black\n",
            "green\n",
            "sky\n",
            "white\n",
            "pink\n",
            "yellow\n"
          ]
        }
      ]
    },
    {
      "cell_type": "code",
      "source": [
        "fruits=[\"apple\",\"banana\",\"cherry\"]\n",
        "for x in fruits:\n",
        "  if x == \"banana\":\n",
        "    break\n",
        "  print(x)"
      ],
      "metadata": {
        "colab": {
          "base_uri": "https://localhost:8080/"
        },
        "id": "qnqdwAs2kJrY",
        "outputId": "62bbbcfe-cc42-46eb-b391-651629bbd210"
      },
      "execution_count": 13,
      "outputs": [
        {
          "output_type": "stream",
          "name": "stdout",
          "text": [
            "apple\n"
          ]
        }
      ]
    },
    {
      "cell_type": "code",
      "source": [
        "fruits=[\"apple\",\"banana\",\"cherry\"]\n",
        "for x in fruits:\n",
        "  if x == \"banana\":\n",
        "    continue\n",
        "  print(x)"
      ],
      "metadata": {
        "colab": {
          "base_uri": "https://localhost:8080/"
        },
        "id": "JJDI4Hx9k7VH",
        "outputId": "a1cde44a-21f2-450d-a8de-9b817dd71505"
      },
      "execution_count": 14,
      "outputs": [
        {
          "output_type": "stream",
          "name": "stdout",
          "text": [
            "apple\n",
            "cherry\n"
          ]
        }
      ]
    },
    {
      "cell_type": "code",
      "source": [
        "for x in range(6):\n",
        "  print(x)"
      ],
      "metadata": {
        "colab": {
          "base_uri": "https://localhost:8080/"
        },
        "id": "hRQiSr5plS5o",
        "outputId": "3ba35057-e195-4fe6-ef5d-8d9a3242d5c4"
      },
      "execution_count": 15,
      "outputs": [
        {
          "output_type": "stream",
          "name": "stdout",
          "text": [
            "0\n",
            "1\n",
            "2\n",
            "3\n",
            "4\n",
            "5\n"
          ]
        }
      ]
    },
    {
      "cell_type": "code",
      "source": [
        "for x in range(2,6):\n",
        "  print(x)"
      ],
      "metadata": {
        "colab": {
          "base_uri": "https://localhost:8080/"
        },
        "id": "oBGVRs0nlkLi",
        "outputId": "2d42c6ae-2150-4010-bdd1-67feefcd96e7"
      },
      "execution_count": 16,
      "outputs": [
        {
          "output_type": "stream",
          "name": "stdout",
          "text": [
            "2\n",
            "3\n",
            "4\n",
            "5\n"
          ]
        }
      ]
    },
    {
      "cell_type": "code",
      "source": [
        "\n",
        "for x in range(2,30,3):\n",
        "  print(x)"
      ],
      "metadata": {
        "colab": {
          "base_uri": "https://localhost:8080/"
        },
        "id": "2aSxqLX2lywC",
        "outputId": "574c6263-3670-436e-b8b7-237e01013343"
      },
      "execution_count": 23,
      "outputs": [
        {
          "output_type": "stream",
          "name": "stdout",
          "text": [
            "2\n",
            "5\n",
            "8\n",
            "11\n",
            "14\n",
            "17\n",
            "20\n",
            "23\n",
            "26\n",
            "29\n"
          ]
        }
      ]
    },
    {
      "cell_type": "code",
      "source": [
        "for x in range(2,45,4):\n",
        "  print(x)"
      ],
      "metadata": {
        "colab": {
          "base_uri": "https://localhost:8080/"
        },
        "id": "Lo-qU15qoYDq",
        "outputId": "fc1e718b-e0a1-49af-cf25-fb1ba37a86d2"
      },
      "execution_count": 24,
      "outputs": [
        {
          "output_type": "stream",
          "name": "stdout",
          "text": [
            "2\n",
            "6\n",
            "10\n",
            "14\n",
            "18\n",
            "22\n",
            "26\n",
            "30\n",
            "34\n",
            "38\n",
            "42\n"
          ]
        }
      ]
    },
    {
      "cell_type": "code",
      "source": [
        "for x in range(6):\n",
        "  print(x)\n",
        "else:\n",
        "  print(\"finally finished!\")"
      ],
      "metadata": {
        "outputId": "7bcb3eab-c76d-4937-83bd-7e1f98c76cb7",
        "colab": {
          "base_uri": "https://localhost:8080/"
        },
        "id": "6nER8e_MobvW"
      },
      "execution_count": 22,
      "outputs": [
        {
          "output_type": "stream",
          "name": "stdout",
          "text": [
            "0\n",
            "1\n",
            "2\n",
            "3\n",
            "4\n",
            "5\n",
            "finally finished!\n"
          ]
        }
      ]
    },
    {
      "cell_type": "code",
      "source": [
        "for x in range(6):\n",
        "  print(x)\n",
        "else:\n",
        "  print(\"finally finished!\")"
      ],
      "metadata": {
        "colab": {
          "base_uri": "https://localhost:8080/"
        },
        "id": "JLZoyYb1mTV8",
        "outputId": "6a76876b-545b-49a7-b589-254b77201a9e"
      },
      "execution_count": 19,
      "outputs": [
        {
          "output_type": "stream",
          "name": "stdout",
          "text": [
            "0\n",
            "1\n",
            "2\n",
            "3\n",
            "4\n",
            "5\n",
            "finally finished!\n"
          ]
        }
      ]
    },
    {
      "cell_type": "code",
      "source": [
        "for x in range(6):\n",
        "  if x == 3: break\n",
        "  print(x)\n",
        "else:\n",
        "  print(\"finally finished!\")"
      ],
      "metadata": {
        "colab": {
          "base_uri": "https://localhost:8080/"
        },
        "id": "i4oDtZpMmtOG",
        "outputId": "9823f09e-80e6-46f6-d28a-012a995c2162"
      },
      "execution_count": 20,
      "outputs": [
        {
          "output_type": "stream",
          "name": "stdout",
          "text": [
            "0\n",
            "1\n",
            "2\n"
          ]
        }
      ]
    },
    {
      "cell_type": "code",
      "source": [],
      "metadata": {
        "id": "lIpcX-J3oJUV"
      },
      "execution_count": null,
      "outputs": []
    },
    {
      "cell_type": "code",
      "source": [
        "for x in range(8):\n",
        "  print(x)\n",
        "else:\n",
        "  print(\"finally finished!\")"
      ],
      "metadata": {
        "outputId": "cfd77fb7-5071-4d32-e2f0-5455fb203680",
        "colab": {
          "base_uri": "https://localhost:8080/"
        },
        "id": "ryYwybkboN2x"
      },
      "execution_count": 21,
      "outputs": [
        {
          "output_type": "stream",
          "name": "stdout",
          "text": [
            "0\n",
            "1\n",
            "2\n",
            "3\n",
            "4\n",
            "5\n",
            "6\n",
            "7\n",
            "finally finished!\n"
          ]
        }
      ]
    }
  ]
}