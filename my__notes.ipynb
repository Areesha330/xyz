{
  "nbformat": 4,
  "nbformat_minor": 0,
  "metadata": {
    "colab": {
      "provenance": []
    },
    "kernelspec": {
      "name": "python3",
      "display_name": "Python 3"
    },
    "language_info": {
      "name": "python"
    }
  },
  "cells": [
    {
      "cell_type": "code",
      "execution_count": null,
      "metadata": {
        "colab": {
          "base_uri": "https://localhost:8080/"
        },
        "id": "oybpZrZYT8qV",
        "outputId": "bc5045e2-ddb2-435b-c93d-d1d0c1e76308"
      },
      "outputs": [
        {
          "output_type": "stream",
          "name": "stdout",
          "text": [
            "welcome\n"
          ]
        }
      ],
      "source": [
        "print(\"welcome\")"
      ]
    },
    {
      "cell_type": "code",
      "source": [
        "mix=[\"ali\",\"usman\",21,41]\n",
        "mix[0]"
      ],
      "metadata": {
        "colab": {
          "base_uri": "https://localhost:8080/",
          "height": 35
        },
        "id": "heOH1ZcSrhmR",
        "outputId": "cdf74f2d-a2f9-47f1-d8d4-4c92b62ca1d0"
      },
      "execution_count": null,
      "outputs": [
        {
          "output_type": "execute_result",
          "data": {
            "text/plain": [
              "'ali'"
            ],
            "application/vnd.google.colaboratory.intrinsic+json": {
              "type": "string"
            }
          },
          "metadata": {},
          "execution_count": 2
        }
      ]
    },
    {
      "cell_type": "code",
      "source": [
        "mix=[\"ali\",\"usman\",21,41]\n",
        "mix[1]"
      ],
      "metadata": {
        "colab": {
          "base_uri": "https://localhost:8080/",
          "height": 35
        },
        "id": "byLTVx-Kr12F",
        "outputId": "da1a4997-5606-4a83-c37c-d7fc4dd68e86"
      },
      "execution_count": null,
      "outputs": [
        {
          "output_type": "execute_result",
          "data": {
            "text/plain": [
              "'usman'"
            ],
            "application/vnd.google.colaboratory.intrinsic+json": {
              "type": "string"
            }
          },
          "metadata": {},
          "execution_count": 3
        }
      ]
    },
    {
      "cell_type": "code",
      "source": [
        "mix=[\"ali\",\"usman\",21,41]\n",
        "mix[2]"
      ],
      "metadata": {
        "id": "CDAwqR0GUcsO",
        "colab": {
          "base_uri": "https://localhost:8080/"
        },
        "outputId": "267f711b-a9ad-4e22-f7ae-3cdc5b9bebaf"
      },
      "execution_count": null,
      "outputs": [
        {
          "output_type": "execute_result",
          "data": {
            "text/plain": [
              "21"
            ]
          },
          "metadata": {},
          "execution_count": 4
        }
      ]
    },
    {
      "cell_type": "code",
      "source": [
        "mix=[\"ali\",\"usman\",21,41]\n",
        "mix[3]"
      ],
      "metadata": {
        "colab": {
          "base_uri": "https://localhost:8080/"
        },
        "id": "YcjdtBHhsJsU",
        "outputId": "5ebaea64-f04d-41a3-d0c2-220223bdf15e"
      },
      "execution_count": null,
      "outputs": [
        {
          "output_type": "execute_result",
          "data": {
            "text/plain": [
              "41"
            ]
          },
          "metadata": {},
          "execution_count": 5
        }
      ]
    },
    {
      "cell_type": "code",
      "source": [
        "mix=[\"ali\",\"usman\",21,41]\n",
        "mix[0]"
      ],
      "metadata": {
        "colab": {
          "base_uri": "https://localhost:8080/",
          "height": 35
        },
        "id": "vSCF6TXSsU1d",
        "outputId": "114d544d-93e8-4ef3-b091-68b1fc68eb9f"
      },
      "execution_count": null,
      "outputs": [
        {
          "output_type": "execute_result",
          "data": {
            "text/plain": [
              "'ali'"
            ],
            "application/vnd.google.colaboratory.intrinsic+json": {
              "type": "string"
            }
          },
          "metadata": {},
          "execution_count": 6
        }
      ]
    },
    {
      "cell_type": "code",
      "source": [
        "mix=[\"ali\",\"usman\",21,41]\n",
        "mix[-1]"
      ],
      "metadata": {
        "colab": {
          "base_uri": "https://localhost:8080/"
        },
        "id": "h3glsRu_scI1",
        "outputId": "d8300d99-ad3b-4579-8cba-9d1940cdcfd3"
      },
      "execution_count": null,
      "outputs": [
        {
          "output_type": "execute_result",
          "data": {
            "text/plain": [
              "41"
            ]
          },
          "metadata": {},
          "execution_count": 7
        }
      ]
    },
    {
      "cell_type": "code",
      "source": [
        "mix=[\"ali\",\"usman\",21,41]\n",
        "mix[-2]"
      ],
      "metadata": {
        "colab": {
          "base_uri": "https://localhost:8080/"
        },
        "id": "Qw7RwrKfshl9",
        "outputId": "15d6e397-718c-4312-9fb6-7dae73e6a88d"
      },
      "execution_count": null,
      "outputs": [
        {
          "output_type": "execute_result",
          "data": {
            "text/plain": [
              "21"
            ]
          },
          "metadata": {},
          "execution_count": 8
        }
      ]
    },
    {
      "cell_type": "code",
      "source": [
        "mix=[\"ali\",\"usman\",21,41]\n",
        "mix[-3]"
      ],
      "metadata": {
        "colab": {
          "base_uri": "https://localhost:8080/",
          "height": 35
        },
        "id": "dGvvdAlSsnrF",
        "outputId": "9c5e6eb4-4352-4688-83f7-5d3451bb6241"
      },
      "execution_count": null,
      "outputs": [
        {
          "output_type": "execute_result",
          "data": {
            "text/plain": [
              "'usman'"
            ],
            "application/vnd.google.colaboratory.intrinsic+json": {
              "type": "string"
            }
          },
          "metadata": {},
          "execution_count": 9
        }
      ]
    },
    {
      "cell_type": "code",
      "source": [
        "text=\"we are learning python string operation\"\n",
        "letter_string=text[-8]\n",
        "print(letter_string)"
      ],
      "metadata": {
        "colab": {
          "base_uri": "https://localhost:8080/"
        },
        "id": "obWPSYSvsxD9",
        "outputId": "65280fc7-a1c4-49dd-c404-fecc7e91f78e"
      },
      "execution_count": null,
      "outputs": [
        {
          "output_type": "stream",
          "name": "stdout",
          "text": [
            "p\n"
          ]
        }
      ]
    },
    {
      "cell_type": "code",
      "source": [
        "sub_string=text[23-29]\n",
        "print(sub_string)"
      ],
      "metadata": {
        "colab": {
          "base_uri": "https://localhost:8080/"
        },
        "id": "rDCyKug0s3lF",
        "outputId": "7c53ca77-2877-4edb-833b-58461e4ecdea"
      },
      "execution_count": null,
      "outputs": [
        {
          "output_type": "stream",
          "name": "stdout",
          "text": [
            "r\n"
          ]
        }
      ]
    },
    {
      "cell_type": "code",
      "source": [
        "positive_sub_string=text[5:7]\n",
        "print(positive_sub_string)"
      ],
      "metadata": {
        "colab": {
          "base_uri": "https://localhost:8080/"
        },
        "id": "Jn5NQ2zQs-D1",
        "outputId": "e2c457ac-126d-455e-ea94-5a298d7ad4de"
      },
      "execution_count": null,
      "outputs": [
        {
          "output_type": "stream",
          "name": "stdout",
          "text": [
            "e \n"
          ]
        }
      ]
    },
    {
      "cell_type": "code",
      "source": [
        "negative_sub_string=text[-12:-4]\n",
        "print(negative_sub_string)"
      ],
      "metadata": {
        "colab": {
          "base_uri": "https://localhost:8080/"
        },
        "id": "_v02jZM2tFRl",
        "outputId": "7960bf15-e1dd-45f7-898e-00696cd07d93"
      },
      "execution_count": null,
      "outputs": [
        {
          "output_type": "stream",
          "name": "stdout",
          "text": [
            "ng opera\n"
          ]
        }
      ]
    },
    {
      "cell_type": "code",
      "source": [
        "text=\"we are learning python string operation\"\n",
        "letter_string=text[8]\n",
        "print(letter_string)"
      ],
      "metadata": {
        "colab": {
          "base_uri": "https://localhost:8080/"
        },
        "id": "hKFxDDnFtQq-",
        "outputId": "1930e894-0cc2-4794-d9b2-579480c09ec0"
      },
      "execution_count": null,
      "outputs": [
        {
          "output_type": "stream",
          "name": "stdout",
          "text": [
            "e\n"
          ]
        }
      ]
    },
    {
      "cell_type": "code",
      "source": [
        "letter_string=text[7]\n",
        "print(letter_string)"
      ],
      "metadata": {
        "colab": {
          "base_uri": "https://localhost:8080/"
        },
        "id": "-sfthTYft0-O",
        "outputId": "93125612-c040-4798-c976-ff368baf0d3a"
      },
      "execution_count": null,
      "outputs": [
        {
          "output_type": "stream",
          "name": "stdout",
          "text": [
            "l\n"
          ]
        }
      ]
    },
    {
      "cell_type": "code",
      "source": [
        "letter_string=text[13]\n",
        "print(letter_string)"
      ],
      "metadata": {
        "colab": {
          "base_uri": "https://localhost:8080/"
        },
        "id": "NZG2J2r0uFSO",
        "outputId": "23981ad3-20c8-4efe-aa03-fe359e35320e"
      },
      "execution_count": null,
      "outputs": [
        {
          "output_type": "stream",
          "name": "stdout",
          "text": [
            "n\n"
          ]
        }
      ]
    },
    {
      "cell_type": "code",
      "source": [
        "positive_sub_string=text[5:8]\n",
        "print(positive_sub_string)"
      ],
      "metadata": {
        "colab": {
          "base_uri": "https://localhost:8080/"
        },
        "id": "0WHAvxF4ulx3",
        "outputId": "a2204f80-d49f-424e-894f-352388f87c82"
      },
      "execution_count": null,
      "outputs": [
        {
          "output_type": "stream",
          "name": "stdout",
          "text": [
            "e l\n"
          ]
        }
      ]
    },
    {
      "cell_type": "code",
      "source": [
        "negtative_sub_string=text[-12:-23]\n",
        "print(negative_sub_string)"
      ],
      "metadata": {
        "colab": {
          "base_uri": "https://localhost:8080/"
        },
        "id": "NdYoMMoovgXI",
        "outputId": "945a8c54-0ffc-4ec8-8e74-ec87b8d41f9d"
      },
      "execution_count": null,
      "outputs": [
        {
          "output_type": "stream",
          "name": "stdout",
          "text": [
            "ng opera\n"
          ]
        }
      ]
    },
    {
      "cell_type": "code",
      "source": [
        "negtative_sub_string=text[-23:-18]\n",
        "print(negative_sub_string)"
      ],
      "metadata": {
        "colab": {
          "base_uri": "https://localhost:8080/"
        },
        "id": "eAnpTBfEwK2g",
        "outputId": "330931dd-d45c-453f-fd3c-171cc65c71d3"
      },
      "execution_count": null,
      "outputs": [
        {
          "output_type": "stream",
          "name": "stdout",
          "text": [
            "ng opera\n"
          ]
        }
      ]
    }
  ]
}