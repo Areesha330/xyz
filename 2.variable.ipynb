{
 "cells": [
  {
   "cell_type": "code",
   "execution_count": 1,
   "metadata": {},
   "outputs": [
    {
     "name": "stdout",
     "output_type": "stream",
     "text": [
      "the result of var1+var2 is: 40\n"
     ]
    }
   ],
   "source": [
    "var1=30\n",
    "var2=10\n",
    "sum=var1+var2\n",
    "print(\"the result of var1+var2 is:\",sum)\n"
   ]
  },
  {
   "cell_type": "code",
   "execution_count": 4,
   "metadata": {},
   "outputs": [
    {
     "name": "stdout",
     "output_type": "stream",
     "text": [
      "the result of var1-var2 is: 20\n"
     ]
    }
   ],
   "source": [
    "var1=30\n",
    "var2=10\n",
    "subtraction=var1-var2\n",
    "print(\"the result of var1-var2 is:\",subtraction)"
   ]
  },
  {
   "cell_type": "code",
   "execution_count": 5,
   "metadata": {},
   "outputs": [
    {
     "name": "stdout",
     "output_type": "stream",
     "text": [
      "the result of var1*var2 is: 300\n"
     ]
    }
   ],
   "source": [
    "var1=30\n",
    "var2=10\n",
    "product=var1*var2\n",
    "print(\"the result of var1*var2 is:\",product)"
   ]
  },
  {
   "cell_type": "code",
   "execution_count": 6,
   "metadata": {},
   "outputs": [
    {
     "name": "stdout",
     "output_type": "stream",
     "text": [
      "the result of var1/var2 is: 3.0\n"
     ]
    }
   ],
   "source": [
    "var1=30\n",
    "var2=10\n",
    "division=var1/var2\n",
    "print(\"the result of var1/var2 is:\",division)"
   ]
  }
 ],
 "metadata": {
  "kernelspec": {
   "display_name": "Python 3",
   "language": "python",
   "name": "python3"
  },
  "language_info": {
   "codemirror_mode": {
    "name": "ipython",
    "version": 3
   },
   "file_extension": ".py",
   "mimetype": "text/x-python",
   "name": "python",
   "nbconvert_exporter": "python",
   "pygments_lexer": "ipython3",
   "version": "3.12.3"
  }
 },
 "nbformat": 4,
 "nbformat_minor": 2
}
